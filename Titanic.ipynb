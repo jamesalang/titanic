{
  "nbformat": 4,
  "nbformat_minor": 0,
  "metadata": {
    "kernelspec": {
      "display_name": "Python 3",
      "language": "python",
      "name": "python3"
    },
    "language_info": {
      "codemirror_mode": {
        "name": "ipython",
        "version": 3
      },
      "file_extension": ".py",
      "mimetype": "text/x-python",
      "name": "python",
      "nbconvert_exporter": "python",
      "pygments_lexer": "ipython3",
      "version": "3.7.3"
    },
    "colab": {
      "name": "Titanic.ipynb",
      "version": "0.3.2",
      "provenance": [],
      "collapsed_sections": [],
      "include_colab_link": true
    }
  },
  "cells": [
    {
      "cell_type": "markdown",
      "metadata": {
        "id": "view-in-github",
        "colab_type": "text"
      },
      "source": [
        "<a href=\"https://colab.research.google.com/github/jamesalang/titanic/blob/master/Titanic.ipynb\" target=\"_parent\"><img src=\"https://colab.research.google.com/assets/colab-badge.svg\" alt=\"Open In Colab\"/></a>"
      ]
    },
    {
      "cell_type": "markdown",
      "metadata": {
        "id": "20htd5sSPE6T",
        "colab_type": "text"
      },
      "source": [
        "\n",
        "# Import Libraries"
      ]
    },
    {
      "cell_type": "code",
      "metadata": {
        "id": "zLNgDN75PE6V",
        "colab_type": "code",
        "colab": {}
      },
      "source": [
        "#This librarys is to work with matrices\n",
        "import pandas as pd \n",
        "# This librarys is to work with vectors\n",
        "import numpy as np\n",
        "# This library is to create some graphics algorithmn\n",
        "import seaborn as sns\n",
        "# to render the graphs\n",
        "import matplotlib.pyplot as plt\n",
        "\n"
      ],
      "execution_count": 0,
      "outputs": []
    },
    {
      "cell_type": "code",
      "metadata": {
        "id": "kjSkGadDPE6f",
        "colab_type": "code",
        "colab": {}
      },
      "source": [
        "# Impor dataset 'titanic' from seaborn(SNS)\n",
        "\n",
        "titanic = sns.load_dataset('titanic')"
      ],
      "execution_count": 0,
      "outputs": []
    },
    {
      "cell_type": "code",
      "metadata": {
        "id": "xfWGyrm-PE6k",
        "colab_type": "code",
        "colab": {},
        "outputId": "4e969cb8-23ad-4df0-8bad-236df979fdb0"
      },
      "source": [
        "type(titanic)"
      ],
      "execution_count": 0,
      "outputs": [
        {
          "output_type": "execute_result",
          "data": {
            "text/plain": [
              "pandas.core.frame.DataFrame"
            ]
          },
          "metadata": {
            "tags": []
          },
          "execution_count": 19
        }
      ]
    },
    {
      "cell_type": "markdown",
      "metadata": {
        "id": "VdcxRiFTPE6q",
        "colab_type": "text"
      },
      "source": [
        "# Get the size and shape of the data and describe"
      ]
    },
    {
      "cell_type": "code",
      "metadata": {
        "scrolled": true,
        "id": "eRtH8S98PE6r",
        "colab_type": "code",
        "colab": {},
        "outputId": "b1e87933-9ffc-4c70-d3f9-b4dc8a802f15"
      },
      "source": [
        "print(titanic.size)\n",
        "print(titanic.shape)\n",
        "\n",
        "titanic.describe()"
      ],
      "execution_count": 0,
      "outputs": [
        {
          "output_type": "stream",
          "text": [
            "13365\n",
            "(891, 15)\n"
          ],
          "name": "stdout"
        },
        {
          "output_type": "execute_result",
          "data": {
            "text/html": [
              "<div>\n",
              "<style scoped>\n",
              "    .dataframe tbody tr th:only-of-type {\n",
              "        vertical-align: middle;\n",
              "    }\n",
              "\n",
              "    .dataframe tbody tr th {\n",
              "        vertical-align: top;\n",
              "    }\n",
              "\n",
              "    .dataframe thead th {\n",
              "        text-align: right;\n",
              "    }\n",
              "</style>\n",
              "<table border=\"1\" class=\"dataframe\">\n",
              "  <thead>\n",
              "    <tr style=\"text-align: right;\">\n",
              "      <th></th>\n",
              "      <th>survived</th>\n",
              "      <th>pclass</th>\n",
              "      <th>age</th>\n",
              "      <th>sibsp</th>\n",
              "      <th>parch</th>\n",
              "      <th>fare</th>\n",
              "    </tr>\n",
              "  </thead>\n",
              "  <tbody>\n",
              "    <tr>\n",
              "      <th>count</th>\n",
              "      <td>891.000000</td>\n",
              "      <td>891.000000</td>\n",
              "      <td>714.000000</td>\n",
              "      <td>891.000000</td>\n",
              "      <td>891.000000</td>\n",
              "      <td>891.000000</td>\n",
              "    </tr>\n",
              "    <tr>\n",
              "      <th>mean</th>\n",
              "      <td>0.383838</td>\n",
              "      <td>2.308642</td>\n",
              "      <td>29.699118</td>\n",
              "      <td>0.523008</td>\n",
              "      <td>0.381594</td>\n",
              "      <td>32.204208</td>\n",
              "    </tr>\n",
              "    <tr>\n",
              "      <th>std</th>\n",
              "      <td>0.486592</td>\n",
              "      <td>0.836071</td>\n",
              "      <td>14.526497</td>\n",
              "      <td>1.102743</td>\n",
              "      <td>0.806057</td>\n",
              "      <td>49.693429</td>\n",
              "    </tr>\n",
              "    <tr>\n",
              "      <th>min</th>\n",
              "      <td>0.000000</td>\n",
              "      <td>1.000000</td>\n",
              "      <td>0.420000</td>\n",
              "      <td>0.000000</td>\n",
              "      <td>0.000000</td>\n",
              "      <td>0.000000</td>\n",
              "    </tr>\n",
              "    <tr>\n",
              "      <th>25%</th>\n",
              "      <td>0.000000</td>\n",
              "      <td>2.000000</td>\n",
              "      <td>20.125000</td>\n",
              "      <td>0.000000</td>\n",
              "      <td>0.000000</td>\n",
              "      <td>7.910400</td>\n",
              "    </tr>\n",
              "    <tr>\n",
              "      <th>50%</th>\n",
              "      <td>0.000000</td>\n",
              "      <td>3.000000</td>\n",
              "      <td>28.000000</td>\n",
              "      <td>0.000000</td>\n",
              "      <td>0.000000</td>\n",
              "      <td>14.454200</td>\n",
              "    </tr>\n",
              "    <tr>\n",
              "      <th>75%</th>\n",
              "      <td>1.000000</td>\n",
              "      <td>3.000000</td>\n",
              "      <td>38.000000</td>\n",
              "      <td>1.000000</td>\n",
              "      <td>0.000000</td>\n",
              "      <td>31.000000</td>\n",
              "    </tr>\n",
              "    <tr>\n",
              "      <th>max</th>\n",
              "      <td>1.000000</td>\n",
              "      <td>3.000000</td>\n",
              "      <td>80.000000</td>\n",
              "      <td>8.000000</td>\n",
              "      <td>6.000000</td>\n",
              "      <td>512.329200</td>\n",
              "    </tr>\n",
              "  </tbody>\n",
              "</table>\n",
              "</div>"
            ],
            "text/plain": [
              "         survived      pclass         age       sibsp       parch        fare\n",
              "count  891.000000  891.000000  714.000000  891.000000  891.000000  891.000000\n",
              "mean     0.383838    2.308642   29.699118    0.523008    0.381594   32.204208\n",
              "std      0.486592    0.836071   14.526497    1.102743    0.806057   49.693429\n",
              "min      0.000000    1.000000    0.420000    0.000000    0.000000    0.000000\n",
              "25%      0.000000    2.000000   20.125000    0.000000    0.000000    7.910400\n",
              "50%      0.000000    3.000000   28.000000    0.000000    0.000000   14.454200\n",
              "75%      1.000000    3.000000   38.000000    1.000000    0.000000   31.000000\n",
              "max      1.000000    3.000000   80.000000    8.000000    6.000000  512.329200"
            ]
          },
          "metadata": {
            "tags": []
          },
          "execution_count": 25
        }
      ]
    },
    {
      "cell_type": "code",
      "metadata": {
        "id": "rrJpOAa3PE6v",
        "colab_type": "code",
        "colab": {},
        "outputId": "f61a7870-6ddc-4a86-9e5f-d054260e64ca"
      },
      "source": [
        "# Preview DataFrame Head\n",
        "titanic.head()\n",
        "\n"
      ],
      "execution_count": 0,
      "outputs": [
        {
          "output_type": "execute_result",
          "data": {
            "text/html": [
              "<div>\n",
              "<style scoped>\n",
              "    .dataframe tbody tr th:only-of-type {\n",
              "        vertical-align: middle;\n",
              "    }\n",
              "\n",
              "    .dataframe tbody tr th {\n",
              "        vertical-align: top;\n",
              "    }\n",
              "\n",
              "    .dataframe thead th {\n",
              "        text-align: right;\n",
              "    }\n",
              "</style>\n",
              "<table border=\"1\" class=\"dataframe\">\n",
              "  <thead>\n",
              "    <tr style=\"text-align: right;\">\n",
              "      <th></th>\n",
              "      <th>survived</th>\n",
              "      <th>pclass</th>\n",
              "      <th>sex</th>\n",
              "      <th>age</th>\n",
              "      <th>sibsp</th>\n",
              "      <th>parch</th>\n",
              "      <th>fare</th>\n",
              "      <th>embarked</th>\n",
              "      <th>class</th>\n",
              "      <th>who</th>\n",
              "      <th>adult_male</th>\n",
              "      <th>deck</th>\n",
              "      <th>embark_town</th>\n",
              "      <th>alive</th>\n",
              "      <th>alone</th>\n",
              "    </tr>\n",
              "  </thead>\n",
              "  <tbody>\n",
              "    <tr>\n",
              "      <th>0</th>\n",
              "      <td>0</td>\n",
              "      <td>3</td>\n",
              "      <td>male</td>\n",
              "      <td>22.0</td>\n",
              "      <td>1</td>\n",
              "      <td>0</td>\n",
              "      <td>7.2500</td>\n",
              "      <td>S</td>\n",
              "      <td>Third</td>\n",
              "      <td>man</td>\n",
              "      <td>True</td>\n",
              "      <td>NaN</td>\n",
              "      <td>Southampton</td>\n",
              "      <td>no</td>\n",
              "      <td>False</td>\n",
              "    </tr>\n",
              "    <tr>\n",
              "      <th>1</th>\n",
              "      <td>1</td>\n",
              "      <td>1</td>\n",
              "      <td>female</td>\n",
              "      <td>38.0</td>\n",
              "      <td>1</td>\n",
              "      <td>0</td>\n",
              "      <td>71.2833</td>\n",
              "      <td>C</td>\n",
              "      <td>First</td>\n",
              "      <td>woman</td>\n",
              "      <td>False</td>\n",
              "      <td>C</td>\n",
              "      <td>Cherbourg</td>\n",
              "      <td>yes</td>\n",
              "      <td>False</td>\n",
              "    </tr>\n",
              "    <tr>\n",
              "      <th>2</th>\n",
              "      <td>1</td>\n",
              "      <td>3</td>\n",
              "      <td>female</td>\n",
              "      <td>26.0</td>\n",
              "      <td>0</td>\n",
              "      <td>0</td>\n",
              "      <td>7.9250</td>\n",
              "      <td>S</td>\n",
              "      <td>Third</td>\n",
              "      <td>woman</td>\n",
              "      <td>False</td>\n",
              "      <td>NaN</td>\n",
              "      <td>Southampton</td>\n",
              "      <td>yes</td>\n",
              "      <td>True</td>\n",
              "    </tr>\n",
              "    <tr>\n",
              "      <th>3</th>\n",
              "      <td>1</td>\n",
              "      <td>1</td>\n",
              "      <td>female</td>\n",
              "      <td>35.0</td>\n",
              "      <td>1</td>\n",
              "      <td>0</td>\n",
              "      <td>53.1000</td>\n",
              "      <td>S</td>\n",
              "      <td>First</td>\n",
              "      <td>woman</td>\n",
              "      <td>False</td>\n",
              "      <td>C</td>\n",
              "      <td>Southampton</td>\n",
              "      <td>yes</td>\n",
              "      <td>False</td>\n",
              "    </tr>\n",
              "    <tr>\n",
              "      <th>4</th>\n",
              "      <td>0</td>\n",
              "      <td>3</td>\n",
              "      <td>male</td>\n",
              "      <td>35.0</td>\n",
              "      <td>0</td>\n",
              "      <td>0</td>\n",
              "      <td>8.0500</td>\n",
              "      <td>S</td>\n",
              "      <td>Third</td>\n",
              "      <td>man</td>\n",
              "      <td>True</td>\n",
              "      <td>NaN</td>\n",
              "      <td>Southampton</td>\n",
              "      <td>no</td>\n",
              "      <td>True</td>\n",
              "    </tr>\n",
              "  </tbody>\n",
              "</table>\n",
              "</div>"
            ],
            "text/plain": [
              "   survived  pclass     sex   age  sibsp  parch     fare embarked  class  \\\n",
              "0         0       3    male  22.0      1      0   7.2500        S  Third   \n",
              "1         1       1  female  38.0      1      0  71.2833        C  First   \n",
              "2         1       3  female  26.0      0      0   7.9250        S  Third   \n",
              "3         1       1  female  35.0      1      0  53.1000        S  First   \n",
              "4         0       3    male  35.0      0      0   8.0500        S  Third   \n",
              "\n",
              "     who  adult_male deck  embark_town alive  alone  \n",
              "0    man        True  NaN  Southampton    no  False  \n",
              "1  woman       False    C    Cherbourg   yes  False  \n",
              "2  woman       False  NaN  Southampton   yes   True  \n",
              "3  woman       False    C  Southampton   yes  False  \n",
              "4    man        True  NaN  Southampton    no   True  "
            ]
          },
          "metadata": {
            "tags": []
          },
          "execution_count": 57
        }
      ]
    },
    {
      "cell_type": "markdown",
      "metadata": {
        "id": "kMVQoinKPE62",
        "colab_type": "text"
      },
      "source": [
        "# Find null values in the data"
      ]
    },
    {
      "cell_type": "code",
      "metadata": {
        "id": "mDTwM_6mPE64",
        "colab_type": "code",
        "colab": {},
        "outputId": "a786ce98-52fe-42be-f84d-e622b314903c"
      },
      "source": [
        "titanic.isnull\n"
      ],
      "execution_count": 0,
      "outputs": [
        {
          "output_type": "execute_result",
          "data": {
            "text/plain": [
              "<bound method DataFrame.isnull of      survived  pclass     sex   age  sibsp  parch      fare embarked   class  \\\n",
              "0           0       3    male  22.0      1      0    7.2500        S   Third   \n",
              "1           1       1  female  38.0      1      0   71.2833        C   First   \n",
              "2           1       3  female  26.0      0      0    7.9250        S   Third   \n",
              "3           1       1  female  35.0      1      0   53.1000        S   First   \n",
              "4           0       3    male  35.0      0      0    8.0500        S   Third   \n",
              "5           0       3    male   NaN      0      0    8.4583        Q   Third   \n",
              "6           0       1    male  54.0      0      0   51.8625        S   First   \n",
              "7           0       3    male   2.0      3      1   21.0750        S   Third   \n",
              "8           1       3  female  27.0      0      2   11.1333        S   Third   \n",
              "9           1       2  female  14.0      1      0   30.0708        C  Second   \n",
              "10          1       3  female   4.0      1      1   16.7000        S   Third   \n",
              "11          1       1  female  58.0      0      0   26.5500        S   First   \n",
              "12          0       3    male  20.0      0      0    8.0500        S   Third   \n",
              "13          0       3    male  39.0      1      5   31.2750        S   Third   \n",
              "14          0       3  female  14.0      0      0    7.8542        S   Third   \n",
              "15          1       2  female  55.0      0      0   16.0000        S  Second   \n",
              "16          0       3    male   2.0      4      1   29.1250        Q   Third   \n",
              "17          1       2    male   NaN      0      0   13.0000        S  Second   \n",
              "18          0       3  female  31.0      1      0   18.0000        S   Third   \n",
              "19          1       3  female   NaN      0      0    7.2250        C   Third   \n",
              "20          0       2    male  35.0      0      0   26.0000        S  Second   \n",
              "21          1       2    male  34.0      0      0   13.0000        S  Second   \n",
              "22          1       3  female  15.0      0      0    8.0292        Q   Third   \n",
              "23          1       1    male  28.0      0      0   35.5000        S   First   \n",
              "24          0       3  female   8.0      3      1   21.0750        S   Third   \n",
              "25          1       3  female  38.0      1      5   31.3875        S   Third   \n",
              "26          0       3    male   NaN      0      0    7.2250        C   Third   \n",
              "27          0       1    male  19.0      3      2  263.0000        S   First   \n",
              "28          1       3  female   NaN      0      0    7.8792        Q   Third   \n",
              "29          0       3    male   NaN      0      0    7.8958        S   Third   \n",
              "..        ...     ...     ...   ...    ...    ...       ...      ...     ...   \n",
              "861         0       2    male  21.0      1      0   11.5000        S  Second   \n",
              "862         1       1  female  48.0      0      0   25.9292        S   First   \n",
              "863         0       3  female   NaN      8      2   69.5500        S   Third   \n",
              "864         0       2    male  24.0      0      0   13.0000        S  Second   \n",
              "865         1       2  female  42.0      0      0   13.0000        S  Second   \n",
              "866         1       2  female  27.0      1      0   13.8583        C  Second   \n",
              "867         0       1    male  31.0      0      0   50.4958        S   First   \n",
              "868         0       3    male   NaN      0      0    9.5000        S   Third   \n",
              "869         1       3    male   4.0      1      1   11.1333        S   Third   \n",
              "870         0       3    male  26.0      0      0    7.8958        S   Third   \n",
              "871         1       1  female  47.0      1      1   52.5542        S   First   \n",
              "872         0       1    male  33.0      0      0    5.0000        S   First   \n",
              "873         0       3    male  47.0      0      0    9.0000        S   Third   \n",
              "874         1       2  female  28.0      1      0   24.0000        C  Second   \n",
              "875         1       3  female  15.0      0      0    7.2250        C   Third   \n",
              "876         0       3    male  20.0      0      0    9.8458        S   Third   \n",
              "877         0       3    male  19.0      0      0    7.8958        S   Third   \n",
              "878         0       3    male   NaN      0      0    7.8958        S   Third   \n",
              "879         1       1  female  56.0      0      1   83.1583        C   First   \n",
              "880         1       2  female  25.0      0      1   26.0000        S  Second   \n",
              "881         0       3    male  33.0      0      0    7.8958        S   Third   \n",
              "882         0       3  female  22.0      0      0   10.5167        S   Third   \n",
              "883         0       2    male  28.0      0      0   10.5000        S  Second   \n",
              "884         0       3    male  25.0      0      0    7.0500        S   Third   \n",
              "885         0       3  female  39.0      0      5   29.1250        Q   Third   \n",
              "886         0       2    male  27.0      0      0   13.0000        S  Second   \n",
              "887         1       1  female  19.0      0      0   30.0000        S   First   \n",
              "888         0       3  female   NaN      1      2   23.4500        S   Third   \n",
              "889         1       1    male  26.0      0      0   30.0000        C   First   \n",
              "890         0       3    male  32.0      0      0    7.7500        Q   Third   \n",
              "\n",
              "       who  adult_male deck  embark_town alive  alone  \n",
              "0      man        True  NaN  Southampton    no  False  \n",
              "1    woman       False    C    Cherbourg   yes  False  \n",
              "2    woman       False  NaN  Southampton   yes   True  \n",
              "3    woman       False    C  Southampton   yes  False  \n",
              "4      man        True  NaN  Southampton    no   True  \n",
              "5      man        True  NaN   Queenstown    no   True  \n",
              "6      man        True    E  Southampton    no   True  \n",
              "7    child       False  NaN  Southampton    no  False  \n",
              "8    woman       False  NaN  Southampton   yes  False  \n",
              "9    child       False  NaN    Cherbourg   yes  False  \n",
              "10   child       False    G  Southampton   yes  False  \n",
              "11   woman       False    C  Southampton   yes   True  \n",
              "12     man        True  NaN  Southampton    no   True  \n",
              "13     man        True  NaN  Southampton    no  False  \n",
              "14   child       False  NaN  Southampton    no   True  \n",
              "15   woman       False  NaN  Southampton   yes   True  \n",
              "16   child       False  NaN   Queenstown    no  False  \n",
              "17     man        True  NaN  Southampton   yes   True  \n",
              "18   woman       False  NaN  Southampton    no  False  \n",
              "19   woman       False  NaN    Cherbourg   yes   True  \n",
              "20     man        True  NaN  Southampton    no   True  \n",
              "21     man        True    D  Southampton   yes   True  \n",
              "22   child       False  NaN   Queenstown   yes   True  \n",
              "23     man        True    A  Southampton   yes   True  \n",
              "24   child       False  NaN  Southampton    no  False  \n",
              "25   woman       False  NaN  Southampton   yes  False  \n",
              "26     man        True  NaN    Cherbourg    no   True  \n",
              "27     man        True    C  Southampton    no  False  \n",
              "28   woman       False  NaN   Queenstown   yes   True  \n",
              "29     man        True  NaN  Southampton    no   True  \n",
              "..     ...         ...  ...          ...   ...    ...  \n",
              "861    man        True  NaN  Southampton    no  False  \n",
              "862  woman       False    D  Southampton   yes   True  \n",
              "863  woman       False  NaN  Southampton    no  False  \n",
              "864    man        True  NaN  Southampton    no   True  \n",
              "865  woman       False  NaN  Southampton   yes   True  \n",
              "866  woman       False  NaN    Cherbourg   yes  False  \n",
              "867    man        True    A  Southampton    no   True  \n",
              "868    man        True  NaN  Southampton    no   True  \n",
              "869  child       False  NaN  Southampton   yes  False  \n",
              "870    man        True  NaN  Southampton    no   True  \n",
              "871  woman       False    D  Southampton   yes  False  \n",
              "872    man        True    B  Southampton    no   True  \n",
              "873    man        True  NaN  Southampton    no   True  \n",
              "874  woman       False  NaN    Cherbourg   yes  False  \n",
              "875  child       False  NaN    Cherbourg   yes   True  \n",
              "876    man        True  NaN  Southampton    no   True  \n",
              "877    man        True  NaN  Southampton    no   True  \n",
              "878    man        True  NaN  Southampton    no   True  \n",
              "879  woman       False    C    Cherbourg   yes  False  \n",
              "880  woman       False  NaN  Southampton   yes  False  \n",
              "881    man        True  NaN  Southampton    no   True  \n",
              "882  woman       False  NaN  Southampton    no   True  \n",
              "883    man        True  NaN  Southampton    no   True  \n",
              "884    man        True  NaN  Southampton    no   True  \n",
              "885  woman       False  NaN   Queenstown    no  False  \n",
              "886    man        True  NaN  Southampton    no   True  \n",
              "887  woman       False    B  Southampton   yes   True  \n",
              "888  woman       False  NaN  Southampton    no  False  \n",
              "889    man        True    C    Cherbourg   yes   True  \n",
              "890    man        True  NaN   Queenstown    no   True  \n",
              "\n",
              "[891 rows x 15 columns]>"
            ]
          },
          "metadata": {
            "tags": []
          },
          "execution_count": 22
        }
      ]
    },
    {
      "cell_type": "code",
      "metadata": {
        "id": "hHZj-z9dPE69",
        "colab_type": "code",
        "colab": {},
        "outputId": "3960d5a6-ef0d-4f1c-f91a-b8c4fb20a68f"
      },
      "source": [
        "pd.isnull(titanic).sum()"
      ],
      "execution_count": 0,
      "outputs": [
        {
          "output_type": "execute_result",
          "data": {
            "text/plain": [
              "survived         0\n",
              "pclass           0\n",
              "sex              0\n",
              "age            177\n",
              "sibsp            0\n",
              "parch            0\n",
              "fare             0\n",
              "embarked         2\n",
              "class            0\n",
              "who              0\n",
              "adult_male       0\n",
              "deck           688\n",
              "embark_town      2\n",
              "alive            0\n",
              "alone            0\n",
              "dtype: int64"
            ]
          },
          "metadata": {
            "tags": []
          },
          "execution_count": 23
        }
      ]
    },
    {
      "cell_type": "markdown",
      "metadata": {
        "id": "DG9G5GgZPE7A",
        "colab_type": "text"
      },
      "source": [
        "# List all the colums"
      ]
    },
    {
      "cell_type": "code",
      "metadata": {
        "scrolled": true,
        "id": "MbU4LFlZPE7B",
        "colab_type": "code",
        "colab": {},
        "outputId": "7c208893-836e-49b3-fa8a-626c1e2a161a"
      },
      "source": [
        "titanic.columns"
      ],
      "execution_count": 0,
      "outputs": [
        {
          "output_type": "execute_result",
          "data": {
            "text/plain": [
              "Index(['survived', 'pclass', 'sex', 'age', 'sibsp', 'parch', 'fare',\n",
              "       'embarked', 'class', 'who', 'adult_male', 'deck', 'embark_town',\n",
              "       'alive', 'alone'],\n",
              "      dtype='object')"
            ]
          },
          "metadata": {
            "tags": []
          },
          "execution_count": 36
        }
      ]
    },
    {
      "cell_type": "markdown",
      "metadata": {
        "id": "UwHj7oX2PE7E",
        "colab_type": "text"
      },
      "source": [
        "# List a column"
      ]
    },
    {
      "cell_type": "code",
      "metadata": {
        "id": "H0ayAeOQPE7G",
        "colab_type": "code",
        "colab": {},
        "outputId": "b59dc140-9acc-4f66-c2e4-b432581c6f39"
      },
      "source": [
        "titanic['age']"
      ],
      "execution_count": 0,
      "outputs": [
        {
          "output_type": "execute_result",
          "data": {
            "text/plain": [
              "0      22.0\n",
              "1      38.0\n",
              "2      26.0\n",
              "3      35.0\n",
              "4      35.0\n",
              "5       NaN\n",
              "6      54.0\n",
              "7       2.0\n",
              "8      27.0\n",
              "9      14.0\n",
              "10      4.0\n",
              "11     58.0\n",
              "12     20.0\n",
              "13     39.0\n",
              "14     14.0\n",
              "15     55.0\n",
              "16      2.0\n",
              "17      NaN\n",
              "18     31.0\n",
              "19      NaN\n",
              "20     35.0\n",
              "21     34.0\n",
              "22     15.0\n",
              "23     28.0\n",
              "24      8.0\n",
              "25     38.0\n",
              "26      NaN\n",
              "27     19.0\n",
              "28      NaN\n",
              "29      NaN\n",
              "       ... \n",
              "861    21.0\n",
              "862    48.0\n",
              "863     NaN\n",
              "864    24.0\n",
              "865    42.0\n",
              "866    27.0\n",
              "867    31.0\n",
              "868     NaN\n",
              "869     4.0\n",
              "870    26.0\n",
              "871    47.0\n",
              "872    33.0\n",
              "873    47.0\n",
              "874    28.0\n",
              "875    15.0\n",
              "876    20.0\n",
              "877    19.0\n",
              "878     NaN\n",
              "879    56.0\n",
              "880    25.0\n",
              "881    33.0\n",
              "882    22.0\n",
              "883    28.0\n",
              "884    25.0\n",
              "885    39.0\n",
              "886    27.0\n",
              "887    19.0\n",
              "888     NaN\n",
              "889    26.0\n",
              "890    32.0\n",
              "Name: age, Length: 891, dtype: float64"
            ]
          },
          "metadata": {
            "tags": []
          },
          "execution_count": 37
        }
      ]
    },
    {
      "cell_type": "markdown",
      "metadata": {
        "id": "cciGUHsIPE7K",
        "colab_type": "text"
      },
      "source": [
        "# List a sinlge row"
      ]
    },
    {
      "cell_type": "code",
      "metadata": {
        "scrolled": true,
        "id": "3DNch_KUPE7L",
        "colab_type": "code",
        "colab": {},
        "outputId": "1ccd09dd-6308-48a8-f07d-09fa66084223"
      },
      "source": [
        "titanic[5:6]"
      ],
      "execution_count": 0,
      "outputs": [
        {
          "output_type": "execute_result",
          "data": {
            "text/html": [
              "<div>\n",
              "<style scoped>\n",
              "    .dataframe tbody tr th:only-of-type {\n",
              "        vertical-align: middle;\n",
              "    }\n",
              "\n",
              "    .dataframe tbody tr th {\n",
              "        vertical-align: top;\n",
              "    }\n",
              "\n",
              "    .dataframe thead th {\n",
              "        text-align: right;\n",
              "    }\n",
              "</style>\n",
              "<table border=\"1\" class=\"dataframe\">\n",
              "  <thead>\n",
              "    <tr style=\"text-align: right;\">\n",
              "      <th></th>\n",
              "      <th>survived</th>\n",
              "      <th>pclass</th>\n",
              "      <th>sex</th>\n",
              "      <th>age</th>\n",
              "      <th>sibsp</th>\n",
              "      <th>parch</th>\n",
              "      <th>fare</th>\n",
              "      <th>embarked</th>\n",
              "      <th>class</th>\n",
              "      <th>who</th>\n",
              "      <th>adult_male</th>\n",
              "      <th>deck</th>\n",
              "      <th>embark_town</th>\n",
              "      <th>alive</th>\n",
              "      <th>alone</th>\n",
              "    </tr>\n",
              "  </thead>\n",
              "  <tbody>\n",
              "    <tr>\n",
              "      <th>5</th>\n",
              "      <td>0</td>\n",
              "      <td>3</td>\n",
              "      <td>male</td>\n",
              "      <td>NaN</td>\n",
              "      <td>0</td>\n",
              "      <td>0</td>\n",
              "      <td>8.4583</td>\n",
              "      <td>Q</td>\n",
              "      <td>Third</td>\n",
              "      <td>man</td>\n",
              "      <td>True</td>\n",
              "      <td>NaN</td>\n",
              "      <td>Queenstown</td>\n",
              "      <td>no</td>\n",
              "      <td>True</td>\n",
              "    </tr>\n",
              "  </tbody>\n",
              "</table>\n",
              "</div>"
            ],
            "text/plain": [
              "   survived  pclass   sex  age  sibsp  parch    fare embarked  class  who  \\\n",
              "5         0       3  male  NaN      0      0  8.4583        Q  Third  man   \n",
              "\n",
              "   adult_male deck embark_town alive  alone  \n",
              "5        True  NaN  Queenstown    no   True  "
            ]
          },
          "metadata": {
            "tags": []
          },
          "execution_count": 46
        }
      ]
    },
    {
      "cell_type": "markdown",
      "metadata": {
        "id": "wyPTXqd6PE7R",
        "colab_type": "text"
      },
      "source": [
        "# Add row"
      ]
    },
    {
      "cell_type": "code",
      "metadata": {
        "id": "ZHP7h4eGPE7S",
        "colab_type": "code",
        "colab": {}
      },
      "source": [
        ""
      ],
      "execution_count": 0,
      "outputs": []
    },
    {
      "cell_type": "markdown",
      "metadata": {
        "id": "I3oPjdPqPE7U",
        "colab_type": "text"
      },
      "source": [
        "# Write a function and running it on the Dataframe and create a new column"
      ]
    },
    {
      "cell_type": "code",
      "metadata": {
        "id": "ci9HIwE6PE7U",
        "colab_type": "code",
        "colab": {}
      },
      "source": [
        ""
      ],
      "execution_count": 0,
      "outputs": []
    },
    {
      "cell_type": "markdown",
      "metadata": {
        "id": "XNOEj03yPE7W",
        "colab_type": "text"
      },
      "source": [
        "# Create a GitHub site and upload and share this document "
      ]
    },
    {
      "cell_type": "code",
      "metadata": {
        "id": "tZm8KU_dPE7X",
        "colab_type": "code",
        "colab": {}
      },
      "source": [
        ""
      ],
      "execution_count": 0,
      "outputs": []
    },
    {
      "cell_type": "code",
      "metadata": {
        "id": "UjMlFuWVPE7Z",
        "colab_type": "code",
        "colab": {},
        "outputId": "0c4954eb-9d3e-4554-985b-df250f666871"
      },
      "source": [
        "# Select Sex and Survived Columns\n",
        "# Group data by sex\n",
        "# Show index for row\n",
        "# Return mean of values for male/female\n",
        "# Sort by highest survival rate first\n",
        "\n",
        "titanic[['sex', 'survived']].groupby(['sex'], as_index=False).mean().sort_values(by='survived', ascending=False)"
      ],
      "execution_count": 0,
      "outputs": [
        {
          "output_type": "execute_result",
          "data": {
            "text/html": [
              "<div>\n",
              "<style scoped>\n",
              "    .dataframe tbody tr th:only-of-type {\n",
              "        vertical-align: middle;\n",
              "    }\n",
              "\n",
              "    .dataframe tbody tr th {\n",
              "        vertical-align: top;\n",
              "    }\n",
              "\n",
              "    .dataframe thead th {\n",
              "        text-align: right;\n",
              "    }\n",
              "</style>\n",
              "<table border=\"1\" class=\"dataframe\">\n",
              "  <thead>\n",
              "    <tr style=\"text-align: right;\">\n",
              "      <th></th>\n",
              "      <th>sex</th>\n",
              "      <th>survived</th>\n",
              "    </tr>\n",
              "  </thead>\n",
              "  <tbody>\n",
              "    <tr>\n",
              "      <th>0</th>\n",
              "      <td>female</td>\n",
              "      <td>0.742038</td>\n",
              "    </tr>\n",
              "    <tr>\n",
              "      <th>1</th>\n",
              "      <td>male</td>\n",
              "      <td>0.188908</td>\n",
              "    </tr>\n",
              "  </tbody>\n",
              "</table>\n",
              "</div>"
            ],
            "text/plain": [
              "      sex  survived\n",
              "0  female  0.742038\n",
              "1    male  0.188908"
            ]
          },
          "metadata": {
            "tags": []
          },
          "execution_count": 56
        }
      ]
    },
    {
      "cell_type": "code",
      "metadata": {
        "id": "v6PgBueIPE7c",
        "colab_type": "code",
        "colab": {},
        "outputId": "38b76fad-90a0-45fa-d8a7-9df515a929f9"
      },
      "source": [
        "# Set plot style\n",
        "sns.set(style='ticks', color_codes=True)\n",
        "\n",
        "# Plot passenger age distribution\n",
        "age_hist = sns.FacetGrid(titanic)\n",
        "age_hist.map(plt.hist, 'age', bins=20)"
      ],
      "execution_count": 0,
      "outputs": [
        {
          "output_type": "execute_result",
          "data": {
            "text/plain": [
              "<seaborn.axisgrid.FacetGrid at 0x1a2820ee10>"
            ]
          },
          "metadata": {
            "tags": []
          },
          "execution_count": 58
        },
        {
          "output_type": "display_data",
          "data": {
            "image/png": "[encoded data removed]",
            "text/plain": [
              "<Figure size 216x216 with 1 Axes>"
            ]
          },
          "metadata": {
            "tags": []
          }
        }
      ]
    },
    {
      "cell_type": "code",
      "metadata": {
        "id": "Yxl6HcZvPE7e",
        "colab_type": "code",
        "colab": {}
      },
      "source": [
        ""
      ],
      "execution_count": 0,
      "outputs": []
    }
  ]
}